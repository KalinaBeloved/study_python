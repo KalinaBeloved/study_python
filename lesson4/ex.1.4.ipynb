{
 "cells": [
  {
   "cell_type": "code",
   "execution_count": 1,
   "metadata": {},
   "outputs": [
    {
     "name": "stdout",
     "output_type": "stream",
     "text": [
      "Введите команду: \n",
      "p\n",
      "Введите номер документа: \n",
      "11-2\n",
      "Геннадий Покемонов\n"
     ]
    },
    {
     "data": {
      "text/plain": [
       "'p'"
      ]
     },
     "execution_count": 1,
     "metadata": {},
     "output_type": "execute_result"
    }
   ],
   "source": [
    "documents = [\n",
    "    {'type': 'passport', 'number': '2207 876234', 'name': 'Василий Гупкин'},\n",
    "    {'type': 'invoice', 'number': '11-2', 'name': 'Геннадий Покемонов'},\n",
    "    {'type': 'insurance', 'number': '10006', 'name': 'Аристарх Павлов'}\n",
    "]\n",
    "\n",
    "directories = {\n",
    "    '1': ['2207 876234', '11-2'],\n",
    "    '2': ['10006'],\n",
    "    '3': []\n",
    "}\n",
    "def on_button_press(p):\n",
    "    print('Введите команду: ')\n",
    "    # p = str(input())\n",
    "    print(p)\n",
    "    if p == 'p':\n",
    "        print('Введите номер документа: ')\n",
    "        doc = (input())\n",
    "        print(doc)\n",
    "        flag = True\n",
    "        for key in documents:\n",
    "            #print(key)\n",
    "            if doc == key['number']:\n",
    "                print(key['name'])\n",
    "                flag = False\n",
    "        if flag:\n",
    "            print('Не найдено')\n",
    "    else:\n",
    "        print('Человека нет')\n",
    "    return p\n",
    "\n",
    "p = str(input())\n",
    "on_button_press(p)\n",
    "\n"
   ]
  },
  {
   "cell_type": "markdown",
   "metadata": {},
   "source": [
    "Вам нужно помочь секретарю автоматизировать работу. Для этого нужно написать программу, которая будет на основе хранимых данных исполнять пользовательские команды.\n",
    "\n",
    "Исходные данные имеют следующую структуру:\n",
    "\n",
    "перечень всех документов\n",
    "documents = [\n",
    "    {'type': 'passport', 'number': '2207 876234', 'name': 'Василий Гупкин'},\n",
    "    {'type': 'invoice', 'number': '11-2', 'name': 'Геннадий Покемонов'},\n",
    "    {'type': 'insurance', 'number': '10006', 'name': 'Аристарх Павлов'}\n",
    "]\n",
    "перечень полок, на которых хранятся документы (если документ есть в documents, то он обязательно должен быть и в directories)\n",
    "directories = {\n",
    "    '1': ['2207 876234', '11-2'],\n",
    "    '2': ['10006'],\n",
    "    '3': []\n",
    "}\n",
    "\n",
    "Пункт 1. Пользователь по команде \"p\" может узнать владельца документа по его номеру\n",
    "Примеры работы:\n",
    "\n",
    "Введите команду:\n",
    "p\n",
    "\n",
    "Введите номер документа:\n",
    "10006\n",
    "Результат:\n",
    "Владелец документа: Аристарх Павлов\n",
    "\n",
    "Введите команду:\n",
    "p\n",
    "\n",
    "Введите номер документа:\n",
    "12345\n",
    "Результат:\n",
    "Документ не найден в базе"
   ]
  },
  {
   "cell_type": "code",
   "execution_count": 2,
   "metadata": {},
   "outputs": [
    {
     "name": "stdout",
     "output_type": "stream",
     "text": [
      "Введите команду: \n",
      "s\n",
      "Введите номер документа: \n",
      "11-2\n",
      "Документ на полке 1\n"
     ]
    },
    {
     "data": {
      "text/plain": [
       "'s'"
      ]
     },
     "execution_count": 2,
     "metadata": {},
     "output_type": "execute_result"
    }
   ],
   "source": [
    "documents = [\n",
    "    {'type': 'passport', 'number': '2207 876234', 'name': 'Василий Гупкин'},\n",
    "    {'type': 'invoice', 'number': '11-2', 'name': 'Геннадий Покемонов'},\n",
    "    {'type': 'insurance', 'number': '10006', 'name': 'Аристарх Павлов'}\n",
    "]\n",
    "\n",
    "directories = {\n",
    "    '1': ['2207 876234', '11-2'],\n",
    "    '2': ['10006'],\n",
    "    '3': []\n",
    "}\n",
    "\n",
    "def on_button_press(s):\n",
    "    print('Введите команду: ')\n",
    "    #s = str(input())\n",
    "    print(s)\n",
    "    if s == 's':\n",
    "        print('Введите номер документа: ')\n",
    "        doc = (input())\n",
    "        print(doc)\n",
    "        flag = True\n",
    "        for key, value in directories.items():\n",
    "            #print(key)\n",
    "            if doc in value:\n",
    "                print(f'Документ на полке {key}')\n",
    "                flag = False\n",
    "        if flag:\n",
    "            print('Не найдено')\n",
    "    else:\n",
    "        print('Человека нет')\n",
    "    return s\n",
    "\n",
    "s = str(input())\n",
    "on_button_press(s)"
   ]
  },
  {
   "cell_type": "markdown",
   "metadata": {},
   "source": [
    "Пункт 2. Пользователь по команде \"s\" может по номеру документа узнать на какой полке он хранится\n",
    "Примеры работы:\n",
    "\n",
    "Введите команду:\n",
    "s\n",
    "\n",
    "Введите номер документа:\n",
    "10006\n",
    "Результат:\n",
    "Документ хранится на полке: 2\n",
    "\n",
    "Введите команду:\n",
    "s\n",
    "\n",
    "Введите номер документа:\n",
    "12345\n",
    "Результат:\n",
    "Документ не найден в базе"
   ]
  },
  {
   "cell_type": "code",
   "execution_count": 20,
   "metadata": {},
   "outputs": [
    {
     "name": "stdout",
     "output_type": "stream",
     "text": [
      "Введите команду: \n",
      "l\n",
      "№: 2207 876234, тип: passport, владелец: Василий Гупкин, полка 1\n",
      "№: 11-2, тип: invoice, владелец: Геннадий Покемонов, полка 1\n",
      "№: 10006, тип: insurance, владелец: Аристарх Павлов, полка 2\n"
     ]
    },
    {
     "data": {
      "text/plain": [
       "'l'"
      ]
     },
     "execution_count": 20,
     "metadata": {},
     "output_type": "execute_result"
    }
   ],
   "source": [
    "documents = [\n",
    "    {'type': 'passport', 'number': '2207 876234', 'name': 'Василий Гупкин'},\n",
    "    {'type': 'invoice', 'number': '11-2', 'name': 'Геннадий Покемонов'},\n",
    "    {'type': 'insurance', 'number': '10006', 'name': 'Аристарх Павлов'}\n",
    "]\n",
    "\n",
    "directories = {\n",
    "    '1': ['2207 876234', '11-2'],\n",
    "    '2': ['10006'],\n",
    "    '3': []\n",
    "}\n",
    "\n",
    "def on_button_press(l):\n",
    "    print('Введите команду: ')\n",
    "    #l = str(input())\n",
    "    print(l)\n",
    "    if l == 'l':\n",
    "        for libr in documents:\n",
    "            t = libr['type']\n",
    "            num = libr['number']\n",
    "            name = libr['name']\n",
    "            for key, value in directories.items():\n",
    "                if num in value:\n",
    "                    shelf = str(key)\n",
    "            print(f'№: {num}, тип: {t}, владелец: {name}, полка {shelf}')   \n",
    "    else:\n",
    "        print('Ошибка')\n",
    "    return l\n",
    "\n",
    "l = str(input())\n",
    "on_button_press(l)"
   ]
  },
  {
   "cell_type": "markdown",
   "metadata": {},
   "source": [
    "Пункт 3. Пользователь по команде \"l\" может увидеть полную информацию по всем документам\n",
    "Пример работы:\n",
    "\n",
    "Введите команду:\n",
    "l\n",
    "Результат:\n",
    "\n",
    "№: 2207 876234, тип: passport, владелец: Василий Гупкин, полка хранения: 1\n",
    "№: 11-2, тип: invoice, владелец: Геннадий Покемонов, полка хранения: 1\n",
    "№: 10006, тип: insurance, владелец: Аристарх Павлов, полка хранения: 2"
   ]
  },
  {
   "cell_type": "code",
   "execution_count": 22,
   "metadata": {},
   "outputs": [
    {
     "name": "stdout",
     "output_type": "stream",
     "text": [
      "Введите команду: \n",
      "ads\n",
      "Введите номер полки: \n",
      "Полка добавлена. Текущий перечень полок: ['1', '2', '3', 12]\n"
     ]
    },
    {
     "data": {
      "text/plain": [
       "'ads'"
      ]
     },
     "execution_count": 22,
     "metadata": {},
     "output_type": "execute_result"
    }
   ],
   "source": [
    "documents = [\n",
    "    {'type': 'passport', 'number': '2207 876234', 'name': 'Василий Гупкин'},\n",
    "    {'type': 'invoice', 'number': '11-2', 'name': 'Геннадий Покемонов'},\n",
    "    {'type': 'insurance', 'number': '10006', 'name': 'Аристарх Павлов'}\n",
    "]\n",
    "\n",
    "directories = {\n",
    "    '1': ['2207 876234', '11-2'],\n",
    "    '2': ['10006'],\n",
    "    '3': []\n",
    "}\n",
    "\n",
    "def on_button_press(ads):\n",
    "    print('Введите команду: ')\n",
    "    #ads = str(input())\n",
    "    print(ads)\n",
    "    if ads == 'ads':\n",
    "        print('Введите номер полки: ')\n",
    "        shelf = input()\n",
    "        if shelf not in directories.keys():\n",
    "            directories[shelf] = []\n",
    "            print('Полка добавлена. Текущий перечень полок:', f'{[key for key in directories.keys()]}')\n",
    "        else:\n",
    "            print('Полка существует. Текущий перечень полок:', f'{[key for key in directories.keys()]}')\n",
    "    else:\n",
    "        print('Ошибка')\n",
    "    return ads\n",
    "\n",
    "ads = str(input())\n",
    "on_button_press(ads)"
   ]
  },
  {
   "cell_type": "markdown",
   "metadata": {},
   "source": [
    "Пункт 4. Пользователь по команде \"ads\" может добавить новую полку\n",
    "Примеры работы:\n",
    "\n",
    "Введите команду:\n",
    "ads\n",
    "\n",
    "Введите номер полки:\n",
    "10\n",
    "Результат:\n",
    "Полка добавлена. Текущий перечень полок: 1, 2, 3, 10.\n",
    "\n",
    "Введите команду:\n",
    "ads\n",
    "\n",
    "Введите номер полки:\n",
    "1\n",
    "Результат:\n",
    "Такая полка уже существует. Текущий перечень полок: 1, 2, 3."
   ]
  },
  {
   "cell_type": "code",
   "execution_count": 24,
   "metadata": {},
   "outputs": [
    {
     "name": "stdout",
     "output_type": "stream",
     "text": [
      "Введите команду: \n",
      "ds\n",
      "Введите номер полки: \n",
      "Полка удалена. Перечень полок:  ['1', '2']\n"
     ]
    },
    {
     "data": {
      "text/plain": [
       "'ds'"
      ]
     },
     "execution_count": 24,
     "metadata": {},
     "output_type": "execute_result"
    }
   ],
   "source": [
    "documents = [\n",
    "    {'type': 'passport', 'number': '2207 876234', 'name': 'Василий Гупкин'},\n",
    "    {'type': 'invoice', 'number': '11-2', 'name': 'Геннадий Покемонов'},\n",
    "    {'type': 'insurance', 'number': '10006', 'name': 'Аристарх Павлов'}\n",
    "]\n",
    "\n",
    "directories = {\n",
    "    '1': ['2207 876234', '11-2'],\n",
    "    '2': ['10006'],\n",
    "    '3': []\n",
    "}\n",
    "\n",
    "def on_button_press(ds):\n",
    "    print('Введите команду: ')\n",
    "    #ds = str(input())\n",
    "    print(ds)\n",
    "    if ds == 'ds':\n",
    "        print('Введите номер полки: ')\n",
    "        shelf = input()\n",
    "        if directories[shelf] == []:\n",
    "            directories.pop(shelf)\n",
    "            print('Полка удалена. Перечень полок: ', f'{[key for key in directories.keys()]}')\n",
    "        else:\n",
    "            print('На полке есть документы, удалите их перед удалением полки. Текущий перечень полок: ', f'{[key for key in directories.keys()]}')\n",
    "    else:\n",
    "        print('Ошибка')\n",
    "    return ds\n",
    " \n",
    "ds = str(input())\n",
    "on_button_press(ds)"
   ]
  },
  {
   "cell_type": "markdown",
   "metadata": {},
   "source": [
    "Пункт 5. Пользователь по команде \"ds\" может удалить существующую полку из данных (только если она пустая)\n",
    "Примеры работы:\n",
    "\n",
    "Введите команду:\n",
    "ds\n",
    "\n",
    "Введите номер полки:\n",
    "3\n",
    "Результат:\n",
    "Полка удалена. Текущий перечень полок: 1, 2.\n",
    "\n",
    "Введите команду:\n",
    "ds\n",
    "\n",
    "Введите номер полки:\n",
    "1\n",
    "Результат:\n",
    "На полке есть документа, удалите их перед удалением полки. Текущий перечень полок: 1, 2, 3.\n",
    "\n",
    "Введите команду:\n",
    "ds\n",
    "\n",
    "Введите номер полки:\n",
    "4\n",
    "Результат:\n",
    "Такой полки не существует. Текущий перечень полок: 1, 2, 3."
   ]
  }
 ],
 "metadata": {
  "kernelspec": {
   "display_name": "Python 3",
   "language": "python",
   "name": "python3"
  },
  "language_info": {
   "codemirror_mode": {
    "name": "ipython",
    "version": 3
   },
   "file_extension": ".py",
   "mimetype": "text/x-python",
   "name": "python",
   "nbconvert_exporter": "python",
   "pygments_lexer": "ipython3",
   "version": "3.12.2"
  }
 },
 "nbformat": 4,
 "nbformat_minor": 2
}
