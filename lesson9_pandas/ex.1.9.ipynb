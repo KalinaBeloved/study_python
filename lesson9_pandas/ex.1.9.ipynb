{
 "cells": [
  {
   "cell_type": "code",
   "execution_count": 16,
   "metadata": {},
   "outputs": [
    {
     "name": "stdout",
     "output_type": "stream",
     "text": [
      "                                                   rating  genres\n",
      "movieId title                                                    \n",
      "318     Shawshank Redemption, The (1994)              153     153\n",
      "296     Pulp Fiction (1994)                           123     123\n",
      "356     Forrest Gump (1994)                           116     116\n",
      "2571    Matrix, The (1999)                            109     109\n",
      "260     Star Wars: Episode IV - A New Hope (1977)     104     104\n"
     ]
    }
   ],
   "source": [
    "import pandas as pd\n",
    "\n",
    "movies = pd.read_csv('movies.csv')\n",
    "ratings = pd.read_csv('ratings.csv')\n",
    "ratings = ratings[['movieId', 'rating']]\n",
    "movies[['movieId','title']].head()\n",
    "#N = 0  #число оценок - счетчик\n",
    "list = ratings.merge(movies, on = 'movieId', how = 'left')\n",
    "#print(list[:5])\n",
    "fives = ratings['rating'].max()\n",
    "file_fives = list[(list['rating'] == fives)]\n",
    "file = file_fives.groupby(['movieId', 'title']).count()\n",
    "print(file.sort_values(by = 'rating', ascending = False).head())\n",
    "\n"
   ]
  },
  {
   "cell_type": "markdown",
   "metadata": {},
   "source": [
    "Задание 1\n",
    "Датасет для домашнего задания вы найдете в разделе “Материалы к домашнему заданию” (файл “Дополнительные файлы для домашнего задания”) к этому занятию.\n",
    "Определите, какому фильму было выставлено больше всего оценок 5.0."
   ]
  }
 ],
 "metadata": {
  "kernelspec": {
   "display_name": "Python 3",
   "language": "python",
   "name": "python3"
  },
  "language_info": {
   "codemirror_mode": {
    "name": "ipython",
    "version": 3
   },
   "file_extension": ".py",
   "mimetype": "text/x-python",
   "name": "python",
   "nbconvert_exporter": "python",
   "pygments_lexer": "ipython3",
   "version": "3.12.2"
  }
 },
 "nbformat": 4,
 "nbformat_minor": 2
}
