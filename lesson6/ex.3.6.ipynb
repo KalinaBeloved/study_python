{
 "cells": [
  {
   "cell_type": "code",
   "execution_count": 23,
   "metadata": {},
   "outputs": [
    {
     "name": "stdout",
     "output_type": "stream",
     "text": [
      "['2024-06-23']\n"
     ]
    }
   ],
   "source": [
    "# %Y-%m-%d\n",
    "from datetime import datetime, timedelta\n",
    "def date_range(start_date, end_date):\n",
    "    dates = []\n",
    "    try:\n",
    "        start_elem = datetime.strptime(start_date, \"%Y-%m-%d\")\n",
    "        end_elem = datetime.strptime(start_date, \"%Y-%m-%d\")\n",
    "        if start_elem > end_elem:\n",
    "            return dates     #возвращается пустой список\n",
    "        zero = start_elem\n",
    "        while zero <= end_elem:\n",
    "            dates.append(start_elem.strftime('%Y-%m-%d'))\n",
    "            zero += timedelta(days=1)\n",
    "    except ValueError:\n",
    "        pass\n",
    "    return dates\n",
    "start_date = '2024-06-23'\n",
    "end_date = '2024-06-26'\n",
    "dates = date_range(start_date, end_date)\n",
    "print(dates)      #выводится только одно почему-то"
   ]
  },
  {
   "cell_type": "markdown",
   "metadata": {},
   "source": [
    "Задание 3\n",
    "Напишите функцию date_range, которая возвращает список дат за период от start_date до end_date. Даты должны вводиться в формате YYYY-MM-DD. В случае неверного формата или при start_date > end_date должен возвращаться пустой список."
   ]
  }
 ],
 "metadata": {
  "kernelspec": {
   "display_name": "Python 3",
   "language": "python",
   "name": "python3"
  },
  "language_info": {
   "codemirror_mode": {
    "name": "ipython",
    "version": 3
   },
   "file_extension": ".py",
   "mimetype": "text/x-python",
   "name": "python",
   "nbconvert_exporter": "python",
   "pygments_lexer": "ipython3",
   "version": "3.12.2"
  }
 },
 "nbformat": 4,
 "nbformat_minor": 2
}
