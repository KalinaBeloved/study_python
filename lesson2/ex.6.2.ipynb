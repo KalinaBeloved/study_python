{
 "cells": [
  {
   "cell_type": "code",
   "execution_count": 6,
   "metadata": {},
   "outputs": [
    {
     "name": "stdout",
     "output_type": "stream",
     "text": [
      "23.25\n"
     ]
    }
   ],
   "source": [
    "import re\n",
    "stream = [\n",
    "    'user4,2021-01-01;3',\n",
    "    'user3,2022-01-07;4',\n",
    "    'user2,2022-03-29;1',\n",
    "    'user1,2020-04-04;13',\n",
    "    'user2,2022-01-05;7',\n",
    "    'user1,2021-06-14;4',\n",
    "    'user3,2022-07-02;10',\n",
    "    'user4,2021-03-21;19',\n",
    "    'user4,2022-03-22;4',\n",
    "    'user4,2022-04-22;8',\n",
    "    'user4,2021-05-03;9',\n",
    "    'user4,2022-05-11;11'\n",
    "]\n",
    "views_per_user = {} #la biblioteca\n",
    "for i in stream:\n",
    "    userN, _, views = re.split(r',|;', i) #split list and exclude data\n",
    "    views = int(views)\n",
    "    if userN in views_per_user:\n",
    "        views_per_user[userN] += views\n",
    "    else:\n",
    "        views_per_user[userN] = views\n",
    "avearage = sum(views_per_user.values()) / len(views_per_user)\n",
    "print(round(avearage, 3))"
   ]
  },
  {
   "cell_type": "markdown",
   "metadata": {},
   "source": [
    "Дан поток логов по количеству просмотренных страниц для каждого пользователя (пользователь,дата;просмотры). Вам необходимо написать алгоритм, который считает среднее значение просмотров на пользователя. Т. е. надо посчитать отношение суммы всех просмотров к количеству уникальных пользователей. И тут регулярные выражения облегчат немного реализацию.\n",
    "\n",
    "stream = [\n",
    "    'user4,2021-01-01;3',\n",
    "    'user3,2022-01-07;4',\n",
    "    'user2,2022-03-29;1',\n",
    "    'user1,2020-04-04;13',\n",
    "    'user2,2022-01-05;7',\n",
    "    'user1,2021-06-14;4',\n",
    "    'user3,2022-07-02;10',\n",
    "    'user4,2021-03-21;19',\n",
    "    'user4,2022-03-22;4',\n",
    "    'user4,2022-04-22;8',\n",
    "    'user4,2021-05-03;9',\n",
    "    'user4,2022-05-11;11'\n",
    "]"
   ]
  }
 ],
 "metadata": {
  "kernelspec": {
   "display_name": "Python 3",
   "language": "python",
   "name": "python3"
  },
  "language_info": {
   "codemirror_mode": {
    "name": "ipython",
    "version": 3
   },
   "file_extension": ".py",
   "mimetype": "text/x-python",
   "name": "python",
   "nbconvert_exporter": "python",
   "pygments_lexer": "ipython3",
   "version": "3.12.2"
  }
 },
 "nbformat": 4,
 "nbformat_minor": 2
}
