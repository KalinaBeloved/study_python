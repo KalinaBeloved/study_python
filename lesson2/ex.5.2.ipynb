{
 "cells": [
  {
   "cell_type": "code",
   "execution_count": 9,
   "metadata": {},
   "outputs": [
    {
     "name": "stdout",
     "output_type": "stream",
     "text": [
      "Номер О855СН93 валиден. Регион: 93\n"
     ]
    }
   ],
   "source": [
    "import re\n",
    "car = input()\n",
    "pattern = r\"^[ABEKMHOPCTYXАВЕКМНОРСТУХ]{1}\\d{3}[ABEKMHOPCTYXАВЕКМНОРСТУХ]{2}\\d{2,3}$\"\n",
    "match = re.match(pattern,car)\n",
    "reg = car[-2:]\n",
    "if match:\n",
    "    print(f'Номер {car} валиден. Регион: {reg}')\n",
    "else:\n",
    "    print('Номер не валиден')\n"
   ]
  },
  {
   "cell_type": "markdown",
   "metadata": {},
   "source": [
    "Имеется список с транспортными номерами. Необходимо написать код, который проверит каждый номер на валидность (1 буква, 3 цифры, 2 буквы, 2-3 цифры). Обратите внимание, что не все буквы кириллического алфавита используются в транспортных номер\n",
    "\n",
    "Если номер валиден, то вывести его в нужном формавте (пример ниже), а если не валиден — вывести текст. При решении помогут регулярные выражения, с которыми будет знакомство на практике.\n",
    "\n",
    "Примеры работы программы:\n",
    "\n",
    "car_ids = ['А222ВС96', 'АБ22ВВ193']\n",
    "\n",
    "Результат:\n",
    "\n",
    "Номер А222ВС валиден. Регион: 96\n",
    "Номер АБ22ВВ193 не валиден"
   ]
  }
 ],
 "metadata": {
  "kernelspec": {
   "display_name": "Python 3",
   "language": "python",
   "name": "python3"
  },
  "language_info": {
   "codemirror_mode": {
    "name": "ipython",
    "version": 3
   },
   "file_extension": ".py",
   "mimetype": "text/x-python",
   "name": "python",
   "nbconvert_exporter": "python",
   "pygments_lexer": "ipython3",
   "version": "3.12.2"
  }
 },
 "nbformat": 4,
 "nbformat_minor": 2
}
