{
 "cells": [
  {
   "cell_type": "code",
   "execution_count": 4,
   "metadata": {},
   "outputs": [],
   "source": [
    "import json\n",
    "file_read = open('purchase_log.txt', 'r', encoding = 'utf-8')\n",
    "with file_read as f:\n",
    "    next(f)  #skip headline\n",
    "    purch = {}\n",
    "    for lines in f:\n",
    "        lines.strip()\n",
    "        dictionary = json.loads(lines)   #turn file stuff into python format\n",
    "        purch[dictionary['user_id']] = dictionary['category']\n",
    "#print(purch)\n",
    "\n"
   ]
  },
  {
   "cell_type": "code",
   "execution_count": 3,
   "metadata": {},
   "outputs": [],
   "source": [
    "file_read1 = open('visit_log.csv', 'r', encoding = 'utf-8')\n",
    "file_read2 = open('funnel.csv', 'w', encoding= 'utf-8')\n",
    "with file_read1 as f1, file_read2 as f2:\n",
    "    purch = {}\n",
    "    for lines in f1:\n",
    "        user_id, source = lines.strip().split(',')\n",
    "        category = purch.get('user_id')\n",
    "        if category in f1:\n",
    "            f2.write(f'{user_id}, {source}, {category}\\n')"
   ]
  },
  {
   "cell_type": "markdown",
   "metadata": {},
   "source": [
    "# Домашнее задание\n",
    "1. Переведите содержимое файла purchase_log.txt в словарь purchases вида:\n",
    "```python\n",
    "{'1840e0b9d4': 'Продукты', ...}\n",
    "```\n",
    "\n",
    "2. Для каждого user_id в файле visit_log.csv определите третий столбец с категорией покупки (если покупка была, сам файл visit_log.csv изменять не надо). Запишите в файл funnel.csv визиты из файла visit_log.csv, в которых были покупки с указанием категории.\n",
    "\n",
    "Учтите условия на данные:\n",
    "- содержимое purchase_log.txt помещается в оперативную память компьютера\n",
    "- содержимое visit_log.csv - нет; используйте только построчную обработку этого файла"
   ]
  }
 ],
 "metadata": {
  "kernelspec": {
   "display_name": "Python 3",
   "language": "python",
   "name": "python3"
  },
  "language_info": {
   "codemirror_mode": {
    "name": "ipython",
    "version": 3
   },
   "file_extension": ".py",
   "mimetype": "text/x-python",
   "name": "python",
   "nbconvert_exporter": "python",
   "pygments_lexer": "ipython3",
   "version": "3.12.2"
  }
 },
 "nbformat": 4,
 "nbformat_minor": 2
}
