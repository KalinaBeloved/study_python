{
 "cells": [
  {
   "cell_type": "code",
   "execution_count": 1,
   "metadata": {},
   "outputs": [],
   "source": [
    "d = int(input())\n",
    "m = str(input())\n",
    "\n",
    "def sign(d, m):\n",
    "    if m == 'декабрь':\n",
    "        sign = 'стрелец' if (d < 22) else 'козерог'\n",
    "    elif m == 'январь':\n",
    "        sign = 'козерог' if (d < 20) else 'водолей'\n",
    "    elif m == 'февраль':\n",
    "        sign = 'водолей' if (d < 19) else 'рыбы'\n",
    "    elif m == 'март':\n",
    "        sign = 'рыбы' if (d < 21) else 'овен'\n",
    "    elif m == 'апрель':\n",
    "        sign = 'овен' if (d < 20) else 'телец'\n",
    "    elif m == 'май':\n",
    "        sign = 'телец' if (d < 21) else 'близнецы'\n",
    "    elif m == 'июнь':\n",
    "      sign = 'близнецы' if (d < 21) else 'рак'\n",
    "    elif m == 'июль':\n",
    "      sign = 'рак' if (d < 23) else 'лев'\n",
    "    elif m == 'август':\n",
    "      sign = 'лев' if (d < 23) else 'дева'\n",
    "    elif m == 'сентябрь':\n",
    "      sign = 'дева' if (d < 23) else 'весы'\n",
    "    elif m == 'октябрь':\n",
    "      sign = 'весы' if (d < 23) else 'скорпион'\n",
    "    elif m == 'ноябрь':\n",
    "      sign = 'скорпион' if (d < 22) else 'козерог'\n",
    "    print(sign)\n",
    "\n"
   ]
  }
 ],
 "metadata": {
  "kernelspec": {
   "display_name": "Python 3",
   "language": "python",
   "name": "python3"
  },
  "language_info": {
   "codemirror_mode": {
    "name": "ipython",
    "version": 3
   },
   "file_extension": ".py",
   "mimetype": "text/x-python",
   "name": "python",
   "nbconvert_exporter": "python",
   "pygments_lexer": "ipython3",
   "version": "3.12.2"
  }
 },
 "nbformat": 4,
 "nbformat_minor": 2
}
