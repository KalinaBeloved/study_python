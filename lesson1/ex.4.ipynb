{
 "cells": [
  {
   "cell_type": "code",
   "execution_count": 2,
   "metadata": {},
   "outputs": [
    {
     "name": "stdout",
     "output_type": "stream",
     "text": [
      "Коробка №1\n"
     ]
    }
   ],
   "source": [
    "l = 55\n",
    "w = 10\n",
    "h = 45\n",
    "if (l, w, h <= 15): \n",
    "    print('Коробка №1')\n",
    "elif (l > 200 or w > 200 or h > 200):\n",
    "    print('Упаковка для лыж')\n",
    "elif ((l > 15 and l < 50) or (w > 15 and w < 50) or (h > 15 and h < 50)):\n",
    "    print('Коробка №2')"
   ]
  },
  {
   "cell_type": "markdown",
   "metadata": {},
   "source": [
    "Вам нужно написать программу для подбора упаковок по размерам товара. Размеры (ширина, длина, высота) хранятся в переменных (в сантиметрах):\n",
    "\n",
    "Используйте следующие правила:\n",
    "\n",
    "если каждое из трех измерений менее или равно 15 сантиметрам, то выведите на экран \"Коробка №1\";\n",
    "если хотя бы одно из измерений больше 2 метров, то выводите \"Упаковка для лыж\";\n",
    "если хотя бы одно из измерений больше 15 сантиметров, но менее 50 сантиметров, то выводите \"Коробка №2\";\n",
    "во всех остальных случаях выводите \"Коробка №3\"."
   ]
  }
 ],
 "metadata": {
  "kernelspec": {
   "display_name": "Python 3",
   "language": "python",
   "name": "python3"
  },
  "language_info": {
   "codemirror_mode": {
    "name": "ipython",
    "version": 3
   },
   "file_extension": ".py",
   "mimetype": "text/x-python",
   "name": "python",
   "nbconvert_exporter": "python",
   "pygments_lexer": "ipython3",
   "version": "3.12.2"
  }
 },
 "nbformat": 4,
 "nbformat_minor": 2
}
